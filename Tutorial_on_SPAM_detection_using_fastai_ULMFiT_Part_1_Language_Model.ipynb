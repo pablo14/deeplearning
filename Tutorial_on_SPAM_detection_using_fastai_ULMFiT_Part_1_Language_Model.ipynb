{
  "nbformat": 4,
  "nbformat_minor": 0,
  "metadata": {
    "colab": {
      "name": "Tutorial on SPAM detection using fastai ULMFiT - Part 1: Language Model",
      "provenance": [],
      "collapsed_sections": [],
      "include_colab_link": true
    },
    "kernelspec": {
      "name": "python3",
      "display_name": "Python 3"
    },
    "accelerator": "GPU"
  },
  "cells": [
    {
      "cell_type": "markdown",
      "metadata": {
        "id": "view-in-github",
        "colab_type": "text"
      },
      "source": [
        "<a href=\"https://colab.research.google.com/github/pablo14/deeplearning/blob/master/Tutorial_on_SPAM_detection_using_fastai_ULMFiT_Part_1_Language_Model.ipynb\" target=\"_parent\"><img src=\"https://colab.research.google.com/assets/colab-badge.svg\" alt=\"Open In Colab\"/></a>"
      ]
    },
    {
      "cell_type": "markdown",
      "metadata": {
        "id": "TCu-r6oRWpm6",
        "colab_type": "text"
      },
      "source": [
        "# Tutorial on SPAM detection using fastai ULMFiT - Part 1: Language Model\n",
        "\n",
        "tl;dr: We will walk through the creation of a language model, using a pre-traied network developed by the `fastai` team. Then we will see how known, and unknown word are handled in a way such that the semantic representation of them (embeddings) can be learrnt from the context.\n",
        "\n",
        "I wrote this post in collaboration with Pablo Zivic, who introduced me in this _deep_ and amazing world of transfer learning. Thanks Z.! "
      ]
    },
    {
      "cell_type": "markdown",
      "metadata": {
        "id": "MTjusEeaZBzv",
        "colab_type": "text"
      },
      "source": [
        "### The starting point"
      ]
    },
    {
      "cell_type": "markdown",
      "metadata": {
        "id": "rsMgf8LLsoOq",
        "colab_type": "text"
      },
      "source": [
        "First we need to install torch and fastai in the google collab session:"
      ]
    },
    {
      "cell_type": "code",
      "metadata": {
        "id": "9L-mYNWDBB4g",
        "colab_type": "code",
        "colab": {
          "base_uri": "https://localhost:8080/",
          "height": 808
        },
        "outputId": "1bc8590e-a4cb-4377-88d0-c66aee02b819"
      },
      "source": [
        "# Installing torch_nightly and fastai \n",
        "!pip install torch_nightly -f https://download.pytorch.org/whl/nightly/cu92/torch_nightly.html\n",
        "!pip install fastai"
      ],
      "execution_count": 1,
      "outputs": [
        {
          "output_type": "stream",
          "text": [
            "Looking in links: https://download.pytorch.org/whl/nightly/cu92/torch_nightly.html\n",
            "Collecting torch_nightly\n",
            "\u001b[?25l  Downloading https://download.pytorch.org/whl/nightly/cu92/torch_nightly-1.2.0.dev20190805%2Bcu92-cp36-cp36m-linux_x86_64.whl (704.8MB)\n",
            "\u001b[K     |████████████████████████████████| 704.8MB 25kB/s \n",
            "\u001b[?25hInstalling collected packages: torch-nightly\n",
            "Successfully installed torch-nightly-1.2.0.dev20190805+cu92\n",
            "Requirement already satisfied: fastai in /usr/local/lib/python3.6/dist-packages (1.0.59)\n",
            "Requirement already satisfied: fastprogress>=0.1.19 in /usr/local/lib/python3.6/dist-packages (from fastai) (0.1.22)\n",
            "Requirement already satisfied: beautifulsoup4 in /usr/local/lib/python3.6/dist-packages (from fastai) (4.6.3)\n",
            "Requirement already satisfied: Pillow in /usr/local/lib/python3.6/dist-packages (from fastai) (4.3.0)\n",
            "Requirement already satisfied: pandas in /usr/local/lib/python3.6/dist-packages (from fastai) (0.25.3)\n",
            "Requirement already satisfied: bottleneck in /usr/local/lib/python3.6/dist-packages (from fastai) (1.3.1)\n",
            "Requirement already satisfied: pyyaml in /usr/local/lib/python3.6/dist-packages (from fastai) (3.13)\n",
            "Requirement already satisfied: dataclasses; python_version < \"3.7\" in /usr/local/lib/python3.6/dist-packages (from fastai) (0.7)\n",
            "Requirement already satisfied: scipy in /usr/local/lib/python3.6/dist-packages (from fastai) (1.3.3)\n",
            "Requirement already satisfied: numpy>=1.15 in /usr/local/lib/python3.6/dist-packages (from fastai) (1.17.4)\n",
            "Requirement already satisfied: spacy>=2.0.18 in /usr/local/lib/python3.6/dist-packages (from fastai) (2.1.9)\n",
            "Requirement already satisfied: torchvision in /usr/local/lib/python3.6/dist-packages (from fastai) (0.4.2)\n",
            "Requirement already satisfied: torch>=1.0.0 in /usr/local/lib/python3.6/dist-packages (from fastai) (1.3.1)\n",
            "Requirement already satisfied: nvidia-ml-py3 in /usr/local/lib/python3.6/dist-packages (from fastai) (7.352.0)\n",
            "Requirement already satisfied: requests in /usr/local/lib/python3.6/dist-packages (from fastai) (2.21.0)\n",
            "Requirement already satisfied: numexpr in /usr/local/lib/python3.6/dist-packages (from fastai) (2.7.0)\n",
            "Requirement already satisfied: packaging in /usr/local/lib/python3.6/dist-packages (from fastai) (19.2)\n",
            "Requirement already satisfied: matplotlib in /usr/local/lib/python3.6/dist-packages (from fastai) (3.1.2)\n",
            "Requirement already satisfied: olefile in /usr/local/lib/python3.6/dist-packages (from Pillow->fastai) (0.46)\n",
            "Requirement already satisfied: pytz>=2017.2 in /usr/local/lib/python3.6/dist-packages (from pandas->fastai) (2018.9)\n",
            "Requirement already satisfied: python-dateutil>=2.6.1 in /usr/local/lib/python3.6/dist-packages (from pandas->fastai) (2.6.1)\n",
            "Requirement already satisfied: preshed<2.1.0,>=2.0.1 in /usr/local/lib/python3.6/dist-packages (from spacy>=2.0.18->fastai) (2.0.1)\n",
            "Requirement already satisfied: srsly<1.1.0,>=0.0.6 in /usr/local/lib/python3.6/dist-packages (from spacy>=2.0.18->fastai) (0.2.0)\n",
            "Requirement already satisfied: plac<1.0.0,>=0.9.6 in /usr/local/lib/python3.6/dist-packages (from spacy>=2.0.18->fastai) (0.9.6)\n",
            "Requirement already satisfied: blis<0.3.0,>=0.2.2 in /usr/local/lib/python3.6/dist-packages (from spacy>=2.0.18->fastai) (0.2.4)\n",
            "Requirement already satisfied: thinc<7.1.0,>=7.0.8 in /usr/local/lib/python3.6/dist-packages (from spacy>=2.0.18->fastai) (7.0.8)\n",
            "Requirement already satisfied: murmurhash<1.1.0,>=0.28.0 in /usr/local/lib/python3.6/dist-packages (from spacy>=2.0.18->fastai) (1.0.2)\n",
            "Requirement already satisfied: cymem<2.1.0,>=2.0.2 in /usr/local/lib/python3.6/dist-packages (from spacy>=2.0.18->fastai) (2.0.3)\n",
            "Requirement already satisfied: wasabi<1.1.0,>=0.2.0 in /usr/local/lib/python3.6/dist-packages (from spacy>=2.0.18->fastai) (0.4.2)\n",
            "Requirement already satisfied: six in /usr/local/lib/python3.6/dist-packages (from torchvision->fastai) (1.12.0)\n",
            "Requirement already satisfied: urllib3<1.25,>=1.21.1 in /usr/local/lib/python3.6/dist-packages (from requests->fastai) (1.24.3)\n",
            "Requirement already satisfied: certifi>=2017.4.17 in /usr/local/lib/python3.6/dist-packages (from requests->fastai) (2019.11.28)\n",
            "Requirement already satisfied: chardet<3.1.0,>=3.0.2 in /usr/local/lib/python3.6/dist-packages (from requests->fastai) (3.0.4)\n",
            "Requirement already satisfied: idna<2.9,>=2.5 in /usr/local/lib/python3.6/dist-packages (from requests->fastai) (2.8)\n",
            "Requirement already satisfied: pyparsing>=2.0.2 in /usr/local/lib/python3.6/dist-packages (from packaging->fastai) (2.4.5)\n",
            "Requirement already satisfied: kiwisolver>=1.0.1 in /usr/local/lib/python3.6/dist-packages (from matplotlib->fastai) (1.1.0)\n",
            "Requirement already satisfied: cycler>=0.10 in /usr/local/lib/python3.6/dist-packages (from matplotlib->fastai) (0.10.0)\n",
            "Requirement already satisfied: tqdm<5.0.0,>=4.10.0 in /usr/local/lib/python3.6/dist-packages (from thinc<7.1.0,>=7.0.8->spacy>=2.0.18->fastai) (4.28.1)\n",
            "Requirement already satisfied: setuptools in /usr/local/lib/python3.6/dist-packages (from kiwisolver>=1.0.1->matplotlib->fastai) (42.0.2)\n"
          ],
          "name": "stdout"
        }
      ]
    },
    {
      "cell_type": "code",
      "metadata": {
        "id": "SA87AbrrBigr",
        "colab_type": "code",
        "colab": {}
      },
      "source": [
        "# import libraries\n",
        "\n",
        "from fastai import * \n",
        "import pandas as pd\n",
        "import numpy as np\n",
        "from functools import partial\n",
        "import io\n",
        "import os\n",
        "from fastai.text import *"
      ],
      "execution_count": 0,
      "outputs": []
    },
    {
      "cell_type": "markdown",
      "metadata": {
        "id": "kz5vzTnsCf5H",
        "colab_type": "text"
      },
      "source": [
        "Download SPAM data / TODO: Make  it from original UCI source..."
      ]
    },
    {
      "cell_type": "code",
      "metadata": {
        "id": "QQf44JDCK7td",
        "colab_type": "code",
        "colab": {}
      },
      "source": [
        "# https://archive.ics.uci.edu/ml/datasets/SMS+Spam+Collection\n",
        "url='https://raw.githubusercontent.com/pablo14/ulmfit-spam-detector/master/SMSSpamCollection'\n",
        "df1 = pd.read_csv(url, sep='\\t',  header=None, names=['target', 'text'])\n",
        "\n"
      ],
      "execution_count": 0,
      "outputs": []
    },
    {
      "cell_type": "code",
      "metadata": {
        "id": "mzPteN5VMgPP",
        "colab_type": "code",
        "outputId": "ec80dca6-8b72-4bfc-c0c2-e998a60271e6",
        "colab": {
          "base_uri": "https://localhost:8080/",
          "height": 424
        }
      },
      "source": [
        "df1"
      ],
      "execution_count": 4,
      "outputs": [
        {
          "output_type": "execute_result",
          "data": {
            "text/html": [
              "<div>\n",
              "<style scoped>\n",
              "    .dataframe tbody tr th:only-of-type {\n",
              "        vertical-align: middle;\n",
              "    }\n",
              "\n",
              "    .dataframe tbody tr th {\n",
              "        vertical-align: top;\n",
              "    }\n",
              "\n",
              "    .dataframe thead th {\n",
              "        text-align: right;\n",
              "    }\n",
              "</style>\n",
              "<table border=\"1\" class=\"dataframe\">\n",
              "  <thead>\n",
              "    <tr style=\"text-align: right;\">\n",
              "      <th></th>\n",
              "      <th>target</th>\n",
              "      <th>text</th>\n",
              "    </tr>\n",
              "  </thead>\n",
              "  <tbody>\n",
              "    <tr>\n",
              "      <th>0</th>\n",
              "      <td>ham</td>\n",
              "      <td>Go until jurong point, crazy.. Available only ...</td>\n",
              "    </tr>\n",
              "    <tr>\n",
              "      <th>1</th>\n",
              "      <td>ham</td>\n",
              "      <td>Ok lar... Joking wif u oni...</td>\n",
              "    </tr>\n",
              "    <tr>\n",
              "      <th>2</th>\n",
              "      <td>spam</td>\n",
              "      <td>Free entry in 2 a wkly comp to win FA Cup fina...</td>\n",
              "    </tr>\n",
              "    <tr>\n",
              "      <th>3</th>\n",
              "      <td>ham</td>\n",
              "      <td>U dun say so early hor... U c already then say...</td>\n",
              "    </tr>\n",
              "    <tr>\n",
              "      <th>4</th>\n",
              "      <td>ham</td>\n",
              "      <td>Nah I don't think he goes to usf, he lives aro...</td>\n",
              "    </tr>\n",
              "    <tr>\n",
              "      <th>...</th>\n",
              "      <td>...</td>\n",
              "      <td>...</td>\n",
              "    </tr>\n",
              "    <tr>\n",
              "      <th>5567</th>\n",
              "      <td>spam</td>\n",
              "      <td>This is the 2nd time we have tried 2 contact u...</td>\n",
              "    </tr>\n",
              "    <tr>\n",
              "      <th>5568</th>\n",
              "      <td>ham</td>\n",
              "      <td>Will ü b going to esplanade fr home?</td>\n",
              "    </tr>\n",
              "    <tr>\n",
              "      <th>5569</th>\n",
              "      <td>ham</td>\n",
              "      <td>Pity, * was in mood for that. So...any other s...</td>\n",
              "    </tr>\n",
              "    <tr>\n",
              "      <th>5570</th>\n",
              "      <td>ham</td>\n",
              "      <td>The guy did some bitching but I acted like i'd...</td>\n",
              "    </tr>\n",
              "    <tr>\n",
              "      <th>5571</th>\n",
              "      <td>ham</td>\n",
              "      <td>Rofl. Its true to its name</td>\n",
              "    </tr>\n",
              "  </tbody>\n",
              "</table>\n",
              "<p>5572 rows × 2 columns</p>\n",
              "</div>"
            ],
            "text/plain": [
              "     target                                               text\n",
              "0       ham  Go until jurong point, crazy.. Available only ...\n",
              "1       ham                      Ok lar... Joking wif u oni...\n",
              "2      spam  Free entry in 2 a wkly comp to win FA Cup fina...\n",
              "3       ham  U dun say so early hor... U c already then say...\n",
              "4       ham  Nah I don't think he goes to usf, he lives aro...\n",
              "...     ...                                                ...\n",
              "5567   spam  This is the 2nd time we have tried 2 contact u...\n",
              "5568    ham               Will ü b going to esplanade fr home?\n",
              "5569    ham  Pity, * was in mood for that. So...any other s...\n",
              "5570    ham  The guy did some bitching but I acted like i'd...\n",
              "5571    ham                         Rofl. Its true to its name\n",
              "\n",
              "[5572 rows x 2 columns]"
            ]
          },
          "metadata": {
            "tags": []
          },
          "execution_count": 4
        }
      ]
    },
    {
      "cell_type": "markdown",
      "metadata": {
        "id": "EnCNJjeVZAN2",
        "colab_type": "text"
      },
      "source": [
        "### Checking the target distribution\n"
      ]
    },
    {
      "cell_type": "code",
      "metadata": {
        "colab_type": "code",
        "id": "tyS2j30JWHTE",
        "colab": {}
      },
      "source": [
        ""
      ],
      "execution_count": 0,
      "outputs": []
    },
    {
      "cell_type": "markdown",
      "metadata": {
        "id": "M2Mqt2J2ZDA_",
        "colab_type": "text"
      },
      "source": [
        "You might question.. what is `ham`? is it eatable?\n",
        "Google has the answer: \n",
        "\n",
        "> \"Ham\" is e-mail that is not Spam. In other words, \"non-spam\", or \"good mail\".\n",
        "\n",
        "\n",
        "\n"
      ]
    },
    {
      "cell_type": "markdown",
      "metadata": {
        "id": "_SXRszhllc-E",
        "colab_type": "text"
      },
      "source": [
        "### Split training / test set\n"
      ]
    },
    {
      "cell_type": "markdown",
      "metadata": {
        "id": "PlN4i_Nr5Nhj",
        "colab_type": "text"
      },
      "source": [
        "Split the data now won't make much sense in this part 1. It will be used in the classification part."
      ]
    },
    {
      "cell_type": "code",
      "metadata": {
        "id": "MK_i0X2kD6AC",
        "colab_type": "code",
        "colab": {}
      },
      "source": [
        "from sklearn.model_selection import train_test_split\n",
        "\n",
        "# split data into training and validation set\n",
        "df_trn, df_val = train_test_split(df1, stratify = df1['target'], test_size = 0.3, random_state = 999)\n",
        "\n"
      ],
      "execution_count": 0,
      "outputs": []
    },
    {
      "cell_type": "code",
      "metadata": {
        "id": "C0xrLS3bqGGf",
        "colab_type": "code",
        "outputId": "99a295e2-11c4-48c9-fbfb-22c908cf2768",
        "colab": {
          "base_uri": "https://localhost:8080/",
          "height": 206
        }
      },
      "source": [
        "df_trn.head()"
      ],
      "execution_count": 6,
      "outputs": [
        {
          "output_type": "execute_result",
          "data": {
            "text/html": [
              "<div>\n",
              "<style scoped>\n",
              "    .dataframe tbody tr th:only-of-type {\n",
              "        vertical-align: middle;\n",
              "    }\n",
              "\n",
              "    .dataframe tbody tr th {\n",
              "        vertical-align: top;\n",
              "    }\n",
              "\n",
              "    .dataframe thead th {\n",
              "        text-align: right;\n",
              "    }\n",
              "</style>\n",
              "<table border=\"1\" class=\"dataframe\">\n",
              "  <thead>\n",
              "    <tr style=\"text-align: right;\">\n",
              "      <th></th>\n",
              "      <th>target</th>\n",
              "      <th>text</th>\n",
              "    </tr>\n",
              "  </thead>\n",
              "  <tbody>\n",
              "    <tr>\n",
              "      <th>4853</th>\n",
              "      <td>ham</td>\n",
              "      <td>I liked your new house</td>\n",
              "    </tr>\n",
              "    <tr>\n",
              "      <th>2511</th>\n",
              "      <td>ham</td>\n",
              "      <td>Yunny i'm walking in citylink now ü faster com...</td>\n",
              "    </tr>\n",
              "    <tr>\n",
              "      <th>4011</th>\n",
              "      <td>spam</td>\n",
              "      <td>Wan2 win a Meet+Greet with Westlife 4 U or a m...</td>\n",
              "    </tr>\n",
              "    <tr>\n",
              "      <th>3899</th>\n",
              "      <td>ham</td>\n",
              "      <td>Otherwise had part time job na-tuition..</td>\n",
              "    </tr>\n",
              "    <tr>\n",
              "      <th>653</th>\n",
              "      <td>ham</td>\n",
              "      <td>Wait, do you know if wesleys in town? I bet sh...</td>\n",
              "    </tr>\n",
              "  </tbody>\n",
              "</table>\n",
              "</div>"
            ],
            "text/plain": [
              "     target                                               text\n",
              "4853    ham                             I liked your new house\n",
              "2511    ham  Yunny i'm walking in citylink now ü faster com...\n",
              "4011   spam  Wan2 win a Meet+Greet with Westlife 4 U or a m...\n",
              "3899    ham           Otherwise had part time job na-tuition..\n",
              "653     ham  Wait, do you know if wesleys in town? I bet sh..."
            ]
          },
          "metadata": {
            "tags": []
          },
          "execution_count": 6
        }
      ]
    },
    {
      "cell_type": "code",
      "metadata": {
        "id": "IYEFCrJOEHSG",
        "colab_type": "code",
        "outputId": "2f3dd59e-3df3-401b-811e-ce93345050b0",
        "colab": {
          "base_uri": "https://localhost:8080/",
          "height": 35
        }
      },
      "source": [
        "df_trn.shape, df_val.shape"
      ],
      "execution_count": 7,
      "outputs": [
        {
          "output_type": "execute_result",
          "data": {
            "text/plain": [
              "((3900, 2), (1672, 2))"
            ]
          },
          "metadata": {
            "tags": []
          },
          "execution_count": 7
        }
      ]
    },
    {
      "cell_type": "markdown",
      "metadata": {
        "id": "xvvFWWM4ljoH",
        "colab_type": "text"
      },
      "source": [
        "### Data for the *Language Model* "
      ]
    },
    {
      "cell_type": "code",
      "metadata": {
        "id": "7tNP_aMTEOKe",
        "colab_type": "code",
        "outputId": "c92a3f84-7cc4-4064-9eb9-b29d9810a985",
        "colab": {
          "base_uri": "https://localhost:8080/",
          "height": 17
        }
      },
      "source": [
        "# Language model data\n",
        "data_lm = TextLMDataBunch.from_df(train_df = df_trn, valid_df = df_val, path = \"\")\n",
        "\n"
      ],
      "execution_count": 8,
      "outputs": [
        {
          "output_type": "display_data",
          "data": {
            "text/html": [
              ""
            ],
            "text/plain": [
              "<IPython.core.display.HTML object>"
            ]
          },
          "metadata": {
            "tags": []
          }
        },
        {
          "output_type": "display_data",
          "data": {
            "text/html": [
              ""
            ],
            "text/plain": [
              "<IPython.core.display.HTML object>"
            ]
          },
          "metadata": {
            "tags": []
          }
        }
      ]
    },
    {
      "cell_type": "markdown",
      "metadata": {
        "id": "5VnUl3hVEPhg",
        "colab_type": "text"
      },
      "source": [
        "`itos` contains the pairs id-word from our data. The id is the position. This is the **numericalization** step.\n",
        "\n",
        "Each word is represented with a number (position in the vector)."
      ]
    },
    {
      "cell_type": "code",
      "metadata": {
        "id": "vVZ6PXsQH_oT",
        "colab_type": "code",
        "outputId": "f7e456b9-4b22-42ec-ddbb-f851a0e30b32",
        "colab": {
          "base_uri": "https://localhost:8080/",
          "height": 545
        }
      },
      "source": [
        "data_lm.train_ds.vocab.itos[0:30]"
      ],
      "execution_count": 9,
      "outputs": [
        {
          "output_type": "execute_result",
          "data": {
            "text/plain": [
              "['xxunk',\n",
              " 'xxpad',\n",
              " 'xxbos',\n",
              " 'xxeos',\n",
              " 'xxfld',\n",
              " 'xxmaj',\n",
              " 'xxup',\n",
              " 'xxrep',\n",
              " 'xxwrep',\n",
              " '.',\n",
              " 'i',\n",
              " 'to',\n",
              " 'you',\n",
              " ',',\n",
              " '?',\n",
              " 'a',\n",
              " 'the',\n",
              " '!',\n",
              " '...',\n",
              " 'u',\n",
              " 'and',\n",
              " 'is',\n",
              " 'in',\n",
              " 'my',\n",
              " 'me',\n",
              " 'for',\n",
              " '..',\n",
              " 'it',\n",
              " 'your',\n",
              " 'do']"
            ]
          },
          "metadata": {
            "tags": []
          },
          "execution_count": 9
        }
      ]
    },
    {
      "cell_type": "markdown",
      "metadata": {
        "id": "MYJ4EDQqFno_",
        "colab_type": "text"
      },
      "source": [
        "Those strange words such as `xxbos`, `xxmaj`, etc -also seen in the `itos` list, are tokens that will the neural network to learn patterns.\n",
        "Check the full list in the documentation: https://docs.fast.ai/text.transform.html"
      ]
    },
    {
      "cell_type": "markdown",
      "metadata": {
        "id": "ep88_n4MFJ15",
        "colab_type": "text"
      },
      "source": [
        "We can plot the training data for our language model.\n"
      ]
    },
    {
      "cell_type": "code",
      "metadata": {
        "id": "jdemHo0CmUx8",
        "colab_type": "code",
        "outputId": "b135b42f-b832-4ee4-f778-f144c7486bd2",
        "colab": {
          "base_uri": "https://localhost:8080/",
          "height": 293
        }
      },
      "source": [
        "data_lm.show_batch()"
      ],
      "execution_count": 10,
      "outputs": [
        {
          "output_type": "display_data",
          "data": {
            "text/html": [
              "<table border=\"1\" class=\"dataframe\">\n",
              "  <thead>\n",
              "    <tr style=\"text-align: right;\">\n",
              "      <th>idx</th>\n",
              "      <th>text</th>\n",
              "    </tr>\n",
              "  </thead>\n",
              "  <tbody>\n",
              "    <tr>\n",
              "      <td>0</td>\n",
              "      <td>otherwise had part time job na - tuition .. xxbos xxmaj wait , do you know if xxunk in town ? i bet she does hella drugs ! xxbos xxmaj so what did the bank say about the money ? xxbos i probably wo n't eat at all today . i think i 'm gon na pop . xxmaj how was your weekend ? xxmaj did u miss me ?</td>\n",
              "    </tr>\n",
              "    <tr>\n",
              "      <td>1</td>\n",
              "      <td>need to write xxbos xxmaj free xxmaj msg : xxunk : http : / / tms . widelive.com / index . xxunk * xxunk = xxunk xxbos i not at home now lei ... xxbos xxmaj can you let me know details of fri when u find out cos i 'm not in tom or fri . xxunk chinese . xxmaj thanks xxbos i know a few people i can</td>\n",
              "    </tr>\n",
              "    <tr>\n",
              "      <td>2</td>\n",
              "      <td>search job : ) xxbos xxmaj where at were hungry too xxbos xxmaj urgent ! call xxunk from xxmaj landline . xxmaj your complimentary 4 * xxmaj tenerife xxmaj holiday or £ 10,000 cash await collection xxup sae t&amp;cs xxup box xxunk xxup xxunk xxup xxunk 150ppm 18 + xxbos xxmaj where @ xxbos 18 days to xxmaj euro2004 xxunk ! u will be kept informed of all the latest</td>\n",
              "    </tr>\n",
              "    <tr>\n",
              "      <td>3</td>\n",
              "      <td>national = rate call . xxbos xxmaj u're welcome ... xxmaj caught u using broken english again ... xxbos xxmaj eek that 's a lot of time especially since xxmaj american xxmaj pie is like 8 minutes long . i ca n't stop singing it . xxbos xxmaj but you dint in touch with me . xxbos xxmaj yes but i do n't care cause i know its there !</td>\n",
              "    </tr>\n",
              "    <tr>\n",
              "      <td>4</td>\n",
              "      <td>even she become quite black .. and ur rite here its too cold , wearing xxunk .. xxbos xxmaj sorry , i 'll call you later . i am in meeting sir . xxbos xxmaj tick , tick , tick ... xxmaj babe xxbos xxmaj yes princess ! i want to please you every night . xxmaj your wish is my xxunk ... xxbos xxmaj i.ll post her out l8r</td>\n",
              "    </tr>\n",
              "  </tbody>\n",
              "</table>"
            ],
            "text/plain": [
              "<IPython.core.display.HTML object>"
            ]
          },
          "metadata": {
            "tags": []
          }
        }
      ]
    },
    {
      "cell_type": "markdown",
      "metadata": {
        "id": "Fk4sc96FGlJj",
        "colab_type": "text"
      },
      "source": [
        "### Let's create the language model! 🧙‍♂️✨"
      ]
    },
    {
      "cell_type": "markdown",
      "metadata": {
        "id": "3EMfvm067vf1",
        "colab_type": "text"
      },
      "source": [
        "Esentially, the language model contains the structure of the language (English in this case), allowing us to quickly use in a classification model, skipping the part of learning the semantics of the language from scratch."
      ]
    },
    {
      "cell_type": "code",
      "metadata": {
        "id": "8Ua8pmHEEP5N",
        "colab_type": "code",
        "outputId": "270912e0-a623-485e-f3b5-9aed7727093a",
        "colab": {
          "base_uri": "https://localhost:8080/",
          "height": 35
        }
      },
      "source": [
        "lang_mod = language_model_learner(data_lm,  arch = AWD_LSTM, pretrained = True, drop_mult=1.)"
      ],
      "execution_count": 11,
      "outputs": [
        {
          "output_type": "stream",
          "text": [
            "Downloading https://s3.amazonaws.com/fast-ai-modelzoo/wt103-fwd\n"
          ],
          "name": "stdout"
        },
        {
          "output_type": "display_data",
          "data": {
            "text/html": [
              ""
            ],
            "text/plain": [
              "<IPython.core.display.HTML object>"
            ]
          },
          "metadata": {
            "tags": []
          }
        }
      ]
    },
    {
      "cell_type": "markdown",
      "metadata": {
        "id": "zGMhOVVVRWjV",
        "colab_type": "text"
      },
      "source": [
        "We've just download the pre-trained model, which is a neural network (NN) with an `AWD_LSTM` architecture.  By setting `pretrained = True` we say to fastai to download the weights from the trained model (a corpus of 103 MM of wikipedia articles).\n",
        "\n",
        "\n",
        "\n",
        "Basically instead of representing the words as embeddings (one layer) and retrain every time we need create the model, we are using a NN which has the semantic of the words in a context.\n",
        "\n",
        "You can find more information in: [Universal Language Model Fine-tuning for Text Classification](https://arxiv.org/abs/1801.06146) by Jeremy Howard and Sebastian Ruder \n",
        "\n",
        "####  But what is an embedding? \n",
        "\n",
        "Just in case you are too new to NLP, we've just talked about a lot of terms and concepts. By now, we are not going to cover it too deeply. Please check the course: https://www.fast.ai/2019/07/08/fastai-nlp/\n",
        "\n",
        "Each word is a vector, for example:\n",
        "\n",
        "`hello` is translated into `[0.32, 0.1, 0.5]`. These 3 numbers will be similar to other word that is used in the same context of the text. For example : `hi`. The vector (embedding) for `hi` can be: `[0.30, 0.1, 0.49]`.\n",
        "\n"
      ]
    },
    {
      "cell_type": "markdown",
      "metadata": {
        "id": "aFTjoeFOk-2E",
        "colab_type": "text"
      },
      "source": [
        "_Spending too much reading numbers, will give you the superpower of reading sentences using strange symbols, just like Neo!_\n",
        "\n",
        "![alt text](https://media.giphy.com/media/Q9aBxHn9fTqKs/giphy.gif)"
      ]
    },
    {
      "cell_type": "markdown",
      "metadata": {
        "id": "cJvSVtephixx",
        "colab_type": "text"
      },
      "source": [
        ""
      ]
    },
    {
      "cell_type": "code",
      "metadata": {
        "id": "yD0gG9Et7p0Q",
        "colab_type": "code",
        "colab": {}
      },
      "source": [
        ""
      ],
      "execution_count": 0,
      "outputs": []
    },
    {
      "cell_type": "markdown",
      "metadata": {
        "id": "jO1QrcaY7qMI",
        "colab_type": "text"
      },
      "source": [
        "## Testing the language model"
      ]
    },
    {
      "cell_type": "markdown",
      "metadata": {
        "id": "UvqIOo4Y7s1E",
        "colab_type": "text"
      },
      "source": [
        "The language model has been created, so now we can test it generating some random sentences (the most simplest _naive deep fake_).\n",
        "\n",
        "We can test the language by simply call the `predict` function:"
      ]
    },
    {
      "cell_type": "code",
      "metadata": {
        "id": "4qxcCoAzh5vw",
        "colab_type": "code",
        "outputId": "e27a46ce-3b42-4b36-faf1-6a4407c4537a",
        "colab": {
          "base_uri": "https://localhost:8080/",
          "height": 105
        }
      },
      "source": [
        "for i in range(5):\n",
        "  print(lang_mod.predict(\"The problem usually starts when\", n_words=10))"
      ],
      "execution_count": 12,
      "outputs": [
        {
          "output_type": "stream",
          "text": [
            "The problem usually starts when smart Mad Men people come down to the\n",
            "The problem usually starts when we decide to stop over and advance to a friend\n",
            "The problem usually starts when a single - issue package 's weight is lost ,\n",
            "The problem usually starts when either one has to concentrate or almost blame their members\n",
            "The problem usually starts when in the second half of the game , the need\n"
          ],
          "name": "stdout"
        }
      ]
    },
    {
      "cell_type": "markdown",
      "metadata": {
        "id": "REYOKfQ1ibub",
        "colab_type": "text"
      },
      "source": [
        "Each time we excecute the `predict`, we get a different random sentence, completed with the number of choosen words (`n_words`).\n",
        "\n",
        "Try your own sentences! 🤓\n"
      ]
    },
    {
      "cell_type": "markdown",
      "metadata": {
        "id": "NyUNhkaw--jK",
        "colab_type": "text"
      },
      "source": [
        "### More about the language model\n",
        "\n",
        "⚠️[Oversimplifying] If sentences makes sense, it's because the training on the wikipedia corpus. Later on, we will adjust a little this model in order to learn the represntations of our particular problem (SPAM detection).\n",
        "\n",
        "This way, we will save huge amounts of time. Let's say we learn the semantics of English, and then we will adjust it to our particular case.\n",
        "\n",
        "Medicine and Laws have very different termns, but at the same time, the underlying English structure is the same.\n",
        "\n",
        "If we make use of the undeerlying structure, and then we learn the particularities of our problem, we are doing something that is called **transfer learning**.\n",
        "\n",
        "For an overview about Transfer Learning, check: [What is transfer learning? by Nvidia](https://blogs.nvidia.com/blog/2019/02/07/what-is-transfer-learning/) \n"
      ]
    },
    {
      "cell_type": "markdown",
      "metadata": {
        "id": "CTPzpU6dfMYJ",
        "colab_type": "text"
      },
      "source": [
        "## Inspecting old vs new tokens"
      ]
    },
    {
      "cell_type": "markdown",
      "metadata": {
        "id": "4MXXYFqvfSyZ",
        "colab_type": "text"
      },
      "source": [
        "Now we are going to download the tokens from the pre-trained model. Remember the `itos` from our data? Well this is the same but using the pre-trained model.\n",
        "\n",
        "\n"
      ]
    },
    {
      "cell_type": "code",
      "metadata": {
        "id": "BkJJmlHQKs52",
        "colab_type": "code",
        "colab": {}
      },
      "source": [
        "import pickle\n",
        "with open('/root/.fastai/models/wt103-fwd/itos_wt103.pkl', 'rb') as f:\n",
        "  orig_itos = pickle.load(f)\n",
        "\n",
        "  "
      ],
      "execution_count": 0,
      "outputs": []
    },
    {
      "cell_type": "code",
      "metadata": {
        "id": "6uE91QelhpxK",
        "colab_type": "code",
        "outputId": "3fad496c-a11c-4834-98ac-0829082efbf0",
        "colab": {
          "base_uri": "https://localhost:8080/",
          "height": 35
        }
      },
      "source": [
        "# Total number of tokens:\n",
        "len(orig_itos)"
      ],
      "execution_count": 14,
      "outputs": [
        {
          "output_type": "execute_result",
          "data": {
            "text/plain": [
              "60000"
            ]
          },
          "metadata": {
            "tags": []
          },
          "execution_count": 14
        }
      ]
    },
    {
      "cell_type": "markdown",
      "metadata": {
        "id": "AerMOtuxfJZ1",
        "colab_type": "text"
      },
      "source": [
        "Next step will compare the tokens that exists in both dictionaries (pre-trained vs spam data).\n",
        "\n",
        "And what tokens are not present in the pre-trained."
      ]
    },
    {
      "cell_type": "code",
      "metadata": {
        "id": "nMGU08uPN21N",
        "colab_type": "code",
        "outputId": "020043bb-13be-41a6-d97f-370740bd2165",
        "colab": {
          "base_uri": "https://localhost:8080/",
          "height": 35
        }
      },
      "source": [
        "old_tokens = list(set(data_lm.vocab.itos).intersection(orig_itos))\n",
        "new_tokens = list(set(data_lm.vocab.itos) - set(orig_itos))\n",
        "\n",
        "len(old_tokens), len(new_tokens)"
      ],
      "execution_count": 15,
      "outputs": [
        {
          "output_type": "execute_result",
          "data": {
            "text/plain": [
              "(2690, 862)"
            ]
          },
          "metadata": {
            "tags": []
          },
          "execution_count": 15
        }
      ]
    },
    {
      "cell_type": "markdown",
      "metadata": {
        "id": "wQkqbfZGqj-c",
        "colab_type": "text"
      },
      "source": [
        "2690 tokens are present in the pretrained, while 862 aren't.\n",
        "\n",
        "Some of the new tokens are:"
      ]
    },
    {
      "cell_type": "code",
      "metadata": {
        "id": "oJuUY1lFqmbF",
        "colab_type": "code",
        "outputId": "61a94fac-31bc-4f26-c9d5-21707709247e",
        "colab": {
          "base_uri": "https://localhost:8080/",
          "height": 193
        }
      },
      "source": [
        "new_tokens[:10]"
      ],
      "execution_count": 16,
      "outputs": [
        {
          "output_type": "execute_result",
          "data": {
            "text/plain": [
              "['goodmorning',\n",
              " 'minuts',\n",
              " 'phne',\n",
              " 'ibh',\n",
              " '008704050406',\n",
              " '84025',\n",
              " '2lands',\n",
              " '-message',\n",
              " 'w45wq',\n",
              " 'hlp']"
            ]
          },
          "metadata": {
            "tags": []
          },
          "execution_count": 16
        }
      ]
    },
    {
      "cell_type": "markdown",
      "metadata": {
        "id": "ngZ3QoOOix-A",
        "colab_type": "text"
      },
      "source": [
        "It means that there are certain words now on our SPAM data, that were not present in the wipikedia corpus.\n",
        "\n",
        "The question that arises is, how we are going to handle these new tokens for our model? The absense of these tokens imply that the embedding is initialized randomly.\n",
        "\n"
      ]
    },
    {
      "cell_type": "markdown",
      "metadata": {
        "id": "SJ9EfizFrCjN",
        "colab_type": "text"
      },
      "source": [
        "## Let's play with the data, and learn! 🔎📖"
      ]
    },
    {
      "cell_type": "markdown",
      "metadata": {
        "id": "3Iu787AirLPt",
        "colab_type": "text"
      },
      "source": [
        "Now, we are going to see the similitudes between two words by comparing their embeddings.\n",
        "\n",
        "To this end, next functions will help us to normalize the embeddings' weights,  and to return, based on a single token (word), the top 10 most similar tokens."
      ]
    },
    {
      "cell_type": "code",
      "metadata": {
        "id": "lwx7YJDVO1IN",
        "colab_type": "code",
        "colab": {}
      },
      "source": [
        "from torch.nn import functional as F\n",
        "\n",
        "def get_normalized_embeddings():\n",
        "  return F.normalize(lang_mod.model[0].encoder.weight)\n",
        "\n",
        "def most_similar(token, embs):\n",
        "  idx = data_lm.vocab.itos.index(token)\n",
        "  sims = (embs[idx] @ embs.t()).cpu().detach().numpy()\n",
        "\n",
        "  print(f'Similar to: {token}')\n",
        "  for sim_idx in np.argsort(sims)[::-1][1:11]:\n",
        "    print(f'{data_lm.vocab.itos[sim_idx]:<30}{sims[sim_idx]:.02f}')\n",
        "\n",
        "  \n",
        "\n"
      ],
      "execution_count": 0,
      "outputs": []
    },
    {
      "cell_type": "markdown",
      "metadata": {
        "id": "E-mk92srsXio",
        "colab_type": "text"
      },
      "source": [
        "### Checking token similarity for old tokens\n",
        "\n",
        "These tokens should be ok, since the embeddings were learnt based on a big wikipedia corpus...\n",
        "\n",
        "We will pick some random word, from the old tokens and we will check their similarities. \n",
        "\n",
        "\n",
        "_You can play with this by exectuting the cell several times and check what happens!_ 🎮"
      ]
    },
    {
      "cell_type": "code",
      "metadata": {
        "id": "vXTsj7kVsWwZ",
        "colab_type": "code",
        "colab": {}
      },
      "source": [
        "# Normalizing the embeddings.\n",
        "embs_v1 = get_normalized_embeddings()"
      ],
      "execution_count": 0,
      "outputs": []
    },
    {
      "cell_type": "markdown",
      "metadata": {
        "id": "DwztAcgv6zjA",
        "colab_type": "text"
      },
      "source": [
        "We saved the embeddings so we can improve the network and check the results 😉"
      ]
    },
    {
      "cell_type": "code",
      "metadata": {
        "id": "npd7YRUSOTEj",
        "colab_type": "code",
        "outputId": "203d691a-891c-43ba-eaed-c128fd748b12",
        "colab": {
          "base_uri": "https://localhost:8080/",
          "height": 210
        }
      },
      "source": [
        "from random import choice\n",
        "\n",
        "old_token = choice(old_tokens) # picking a random word\n",
        "most_similar(old_token, embs_v1)"
      ],
      "execution_count": 19,
      "outputs": [
        {
          "output_type": "stream",
          "text": [
            "Similar to: issues\n",
            "problems                      0.58\n",
            "issue                         0.57\n",
            "difficulties                  0.42\n",
            "questions                     0.41\n",
            "problem                       0.38\n",
            "affairs                       0.34\n",
            "pages                         0.33\n",
            "reasons                       0.33\n",
            "changes                       0.30\n",
            "decisions                     0.29\n"
          ],
          "name": "stdout"
        }
      ]
    },
    {
      "cell_type": "markdown",
      "metadata": {
        "id": "MrsmOy7x_jGr",
        "colab_type": "text"
      },
      "source": [
        "For a particular word:"
      ]
    },
    {
      "cell_type": "code",
      "metadata": {
        "id": "rtZhP1HT_icR",
        "colab_type": "code",
        "outputId": "b3c301b0-0074-4d36-a6df-f146aa96129b",
        "colab": {
          "base_uri": "https://localhost:8080/",
          "height": 210
        }
      },
      "source": [
        "most_similar('nice', embs_v1)"
      ],
      "execution_count": 20,
      "outputs": [
        {
          "output_type": "stream",
          "text": [
            "Similar to: nice\n",
            "lovely                        0.54\n",
            "cute                          0.52\n",
            "wonderful                     0.52\n",
            "funny                         0.50\n",
            "fantastic                     0.47\n",
            "pretty                        0.46\n",
            "stupid                        0.46\n",
            "horrible                      0.44\n",
            "weird                         0.44\n",
            "interesting                   0.43\n"
          ],
          "name": "stdout"
        }
      ]
    },
    {
      "cell_type": "markdown",
      "metadata": {
        "id": "A1Tpau3-AY5Y",
        "colab_type": "text"
      },
      "source": [
        "What we see is the word `nice` is similar to `lovely` (because both are used in similar context, don't you think?)"
      ]
    },
    {
      "cell_type": "markdown",
      "metadata": {
        "id": "m-wED2nrtyz2",
        "colab_type": "text"
      },
      "source": [
        "Now we will do the same, but using the new tokens:"
      ]
    },
    {
      "cell_type": "code",
      "metadata": {
        "id": "cqwLAPUhP3Ef",
        "colab_type": "code",
        "outputId": "6efc4f45-137e-4328-d844-08c4e88b23d8",
        "colab": {
          "base_uri": "https://localhost:8080/",
          "height": 210
        }
      },
      "source": [
        "# Random word:\n",
        " new_token = choice(new_tokens)\n",
        " most_similar(new_token, embs_v1)\n"
      ],
      "execution_count": 21,
      "outputs": [
        {
          "output_type": "stream",
          "text": [
            "Similar to: ranjith\n",
            "g696ga                        1.00\n",
            "nurungu                       1.00\n",
            "minnaminunginte               1.00\n",
            "11mths                        1.00\n",
            "aiyah                         1.00\n",
            "w1                            1.00\n",
            "08718720201                   1.00\n",
            "83600                         1.00\n",
            "bleh                          1.00\n",
            "ppl                           1.00\n"
          ],
          "name": "stdout"
        }
      ]
    },
    {
      "cell_type": "markdown",
      "metadata": {
        "id": "6n6DkrIFMkuI",
        "colab_type": "text"
      },
      "source": [
        "We will analyze the word `:)` (yes, the emoji face)\n",
        "\n",
        "Results will be interesting! 🧙‍♀️"
      ]
    },
    {
      "cell_type": "code",
      "metadata": {
        "id": "og6oxtvi-r0i",
        "colab_type": "code",
        "outputId": "2d6ab0b5-dfcc-4d92-bf0e-5a4ab61319c7",
        "colab": {
          "base_uri": "https://localhost:8080/",
          "height": 210
        }
      },
      "source": [
        "# A particular word:\n",
        "most_similar(':)', embs_v1)"
      ],
      "execution_count": 22,
      "outputs": [
        {
          "output_type": "stream",
          "text": [
            "Similar to: :)\n",
            "g696ga                        1.00\n",
            "nurungu                       1.00\n",
            "minnaminunginte               1.00\n",
            "11mths                        1.00\n",
            "aiyah                         1.00\n",
            "w1                            1.00\n",
            "08718720201                   1.00\n",
            "83600                         1.00\n",
            "bleh                          1.00\n",
            "ppl                           1.00\n"
          ],
          "name": "stdout"
        }
      ]
    },
    {
      "cell_type": "code",
      "metadata": {
        "id": "7zJN6TZD8yGO",
        "colab_type": "code",
        "colab": {}
      },
      "source": [
        ""
      ],
      "execution_count": 0,
      "outputs": []
    },
    {
      "cell_type": "markdown",
      "metadata": {
        "id": "XemfuFuit4DZ",
        "colab_type": "text"
      },
      "source": [
        "We see that:\n",
        "\n",
        "A) Doesn't make any sense\n",
        "\n",
        "B) related to A), all the probabilities are 100%... we can see how the embeddings are initiallized randomly. We need to adjust our **Language Model**.\n",
        "\n",
        "This adjustment is called **fine-tunning**."
      ]
    },
    {
      "cell_type": "markdown",
      "metadata": {
        "id": "lrJo6UktBud9",
        "colab_type": "text"
      },
      "source": [
        "### Language Model Fine-Tuning \n"
      ]
    },
    {
      "cell_type": "markdown",
      "metadata": {
        "id": "gRuJzfoZBqqY",
        "colab_type": "text"
      },
      "source": [
        "![alt text](https://media.giphy.com/media/xMY7fFxaQlyi4/giphy.gif)"
      ]
    },
    {
      "cell_type": "markdown",
      "metadata": {
        "id": "Z97FIJ478Drb",
        "colab_type": "text"
      },
      "source": [
        "Now we will find the best learning rate (LR)\n",
        "\n",
        "_As the fastai documentation suggests, learn more about the lr_find() at: [ Cyclical Learning Rates for Training Neural Networks](https://)._\n",
        "\n",
        "\n",
        "Then we will train 4 epochs, using the `fit_one_cycle` function.\n",
        "This powerful technique will train, by now, only the last layer of our language model.\n",
        "\n",
        "\n"
      ]
    },
    {
      "cell_type": "code",
      "metadata": {
        "id": "IK3061wu77jK",
        "colab_type": "code",
        "outputId": "aa4ca44f-95ba-4eb1-fcd7-b3330102e425",
        "colab": {
          "base_uri": "https://localhost:8080/",
          "height": 332
        }
      },
      "source": [
        "lang_mod.lr_find()\n",
        "lang_mod.recorder.plot(suggestion=True)"
      ],
      "execution_count": 23,
      "outputs": [
        {
          "output_type": "display_data",
          "data": {
            "text/html": [
              ""
            ],
            "text/plain": [
              "<IPython.core.display.HTML object>"
            ]
          },
          "metadata": {
            "tags": []
          }
        },
        {
          "output_type": "stream",
          "text": [
            "LR Finder is complete, type {learner_name}.recorder.plot() to see the graph.\n",
            "Min numerical gradient: 2.51E-01\n",
            "Min loss divided by 10: 6.31E-02\n"
          ],
          "name": "stdout"
        },
        {
          "output_type": "display_data",
          "data": {
            "image/png": "[encoded data removed]",
            "text/plain": [
              "<Figure size 432x288 with 1 Axes>"
            ]
          },
          "metadata": {
            "tags": []
          }
        }
      ]
    },
    {
      "cell_type": "markdown",
      "metadata": {
        "id": "JvIR88Hu-6JW",
        "colab_type": "text"
      },
      "source": [
        "\n",
        "\n",
        "Check how the loss in both train and validation are getting similar:"
      ]
    },
    {
      "cell_type": "code",
      "metadata": {
        "id": "ac__SvxYOpwh",
        "colab_type": "code",
        "outputId": "0e287f82-34a5-4e11-8e3e-524b23b634dc",
        "colab": {
          "base_uri": "https://localhost:8080/",
          "height": 175
        }
      },
      "source": [
        "lang_mod.fit_one_cycle(4, max_lr=2.5E-01)"
      ],
      "execution_count": 24,
      "outputs": [
        {
          "output_type": "display_data",
          "data": {
            "text/html": [
              "<table border=\"1\" class=\"dataframe\">\n",
              "  <thead>\n",
              "    <tr style=\"text-align: left;\">\n",
              "      <th>epoch</th>\n",
              "      <th>train_loss</th>\n",
              "      <th>valid_loss</th>\n",
              "      <th>accuracy</th>\n",
              "      <th>time</th>\n",
              "    </tr>\n",
              "  </thead>\n",
              "  <tbody>\n",
              "    <tr>\n",
              "      <td>0</td>\n",
              "      <td>5.360335</td>\n",
              "      <td>4.139844</td>\n",
              "      <td>0.285714</td>\n",
              "      <td>00:01</td>\n",
              "    </tr>\n",
              "    <tr>\n",
              "      <td>1</td>\n",
              "      <td>5.244286</td>\n",
              "      <td>4.462403</td>\n",
              "      <td>0.242857</td>\n",
              "      <td>00:01</td>\n",
              "    </tr>\n",
              "    <tr>\n",
              "      <td>2</td>\n",
              "      <td>5.100469</td>\n",
              "      <td>4.185408</td>\n",
              "      <td>0.328571</td>\n",
              "      <td>00:01</td>\n",
              "    </tr>\n",
              "    <tr>\n",
              "      <td>3</td>\n",
              "      <td>4.839475</td>\n",
              "      <td>4.103854</td>\n",
              "      <td>0.342857</td>\n",
              "      <td>00:01</td>\n",
              "    </tr>\n",
              "  </tbody>\n",
              "</table>"
            ],
            "text/plain": [
              "<IPython.core.display.HTML object>"
            ]
          },
          "metadata": {
            "tags": []
          }
        }
      ]
    },
    {
      "cell_type": "markdown",
      "metadata": {
        "id": "luL2piwH8hwa",
        "colab_type": "text"
      },
      "source": [
        "We normalize and get the new embeddings for our test:"
      ]
    },
    {
      "cell_type": "code",
      "metadata": {
        "id": "275ZTW-t8kwX",
        "colab_type": "code",
        "colab": {}
      },
      "source": [
        "embs_v2 = get_normalized_embeddings()"
      ],
      "execution_count": 0,
      "outputs": []
    },
    {
      "cell_type": "code",
      "metadata": {
        "id": "vTUuvMagddt5",
        "colab_type": "code",
        "outputId": "80eee7af-ca2b-47bd-9aac-c8491ad75447",
        "colab": {
          "base_uri": "https://localhost:8080/",
          "height": 210
        }
      },
      "source": [
        "most_similar(':)', embs_v2)\n",
        "\n",
        "#print(lang_mod.predict('xxbos', n_words=20))"
      ],
      "execution_count": 26,
      "outputs": [
        {
          "output_type": "stream",
          "text": [
            "Similar to: :)\n",
            "xxx                           0.36\n",
            "xxbos                         0.32\n",
            "?                             0.31\n",
            ":-(                           0.30\n",
            "150ppm                        0.27\n",
            ")                             0.26\n",
            "...                           0.25\n",
            "18                            0.25\n",
            "bslvyl                        0.24\n",
            ";_;                           0.24\n"
          ],
          "name": "stdout"
        }
      ]
    },
    {
      "cell_type": "markdown",
      "metadata": {
        "id": "4RkQGSqYNB9v",
        "colab_type": "text"
      },
      "source": [
        "_**And woila!**_ 💥 \n",
        "Now the word `:)` is related to other words which make perfect sense... they are also emojies!\n",
        "\n",
        "As a side note, to me it's intersting to see how the emoji face is related to the token `xxbos`. It means something that we can check in practice, some mensages started with the emoji. \n",
        "\n",
        "Remeber that `xxbos` is the token for _begin of sentence_."
      ]
    },
    {
      "cell_type": "markdown",
      "metadata": {
        "id": "EHDgWf3BN34e",
        "colab_type": "text"
      },
      "source": [
        "\n",
        "\n",
        "---\n",
        "\n"
      ]
    },
    {
      "cell_type": "markdown",
      "metadata": {
        "id": "2wiM9-d2N5ZC",
        "colab_type": "text"
      },
      "source": [
        "\n",
        "We can continue train the language model, by freezen (if I'm not wrong), only two grorup of layers.\n",
        "\n",
        "By doing so, we need to have a different LR across the layers, making the impact less agreesive on the deeper layers. Otherwise we could overfit the network and cause the [Catastrophic forgetting](https://en.wikipedia.org/wiki/Catastrophic_interference)."
      ]
    },
    {
      "cell_type": "code",
      "metadata": {
        "id": "HoKxvokwZKXN",
        "colab_type": "code",
        "colab": {}
      },
      "source": [
        "lang_mod.freeze_to(-2)"
      ],
      "execution_count": 0,
      "outputs": []
    },
    {
      "cell_type": "markdown",
      "metadata": {
        "id": "c0tH2J35Qe9c",
        "colab_type": "text"
      },
      "source": [
        "We need to find the best LR again..."
      ]
    },
    {
      "cell_type": "code",
      "metadata": {
        "id": "dcGWLNVKmqME",
        "colab_type": "code",
        "outputId": "9fa32d78-9ce2-4f7e-d2f5-f507c7d70e85",
        "colab": {
          "base_uri": "https://localhost:8080/",
          "height": 332
        }
      },
      "source": [
        "lang_mod.lr_find()\n",
        "lang_mod.recorder.plot(suggestion=True)"
      ],
      "execution_count": 28,
      "outputs": [
        {
          "output_type": "display_data",
          "data": {
            "text/html": [
              ""
            ],
            "text/plain": [
              "<IPython.core.display.HTML object>"
            ]
          },
          "metadata": {
            "tags": []
          }
        },
        {
          "output_type": "stream",
          "text": [
            "LR Finder is complete, type {learner_name}.recorder.plot() to see the graph.\n",
            "Min numerical gradient: 4.79E-06\n",
            "Min loss divided by 10: 1.45E-02\n"
          ],
          "name": "stdout"
        },
        {
          "output_type": "display_data",
          "data": {
            "image/png": "[encoded data removed]",
            "text/plain": [
              "<Figure size 432x288 with 1 Axes>"
            ]
          },
          "metadata": {
            "tags": []
          }
        }
      ]
    },
    {
      "cell_type": "code",
      "metadata": {
        "id": "YE3likAPETlz",
        "colab_type": "code",
        "outputId": "334ed980-db81-421b-bbb9-555b24655083",
        "colab": {
          "base_uri": "https://localhost:8080/",
          "height": 143
        }
      },
      "source": [
        "# train the language model\n",
        "lang_mod.fit_one_cycle(3, slice(1e-2/100, 1e-2))"
      ],
      "execution_count": 29,
      "outputs": [
        {
          "output_type": "display_data",
          "data": {
            "text/html": [
              "<table border=\"1\" class=\"dataframe\">\n",
              "  <thead>\n",
              "    <tr style=\"text-align: left;\">\n",
              "      <th>epoch</th>\n",
              "      <th>train_loss</th>\n",
              "      <th>valid_loss</th>\n",
              "      <th>accuracy</th>\n",
              "      <th>time</th>\n",
              "    </tr>\n",
              "  </thead>\n",
              "  <tbody>\n",
              "    <tr>\n",
              "      <td>0</td>\n",
              "      <td>4.334216</td>\n",
              "      <td>4.090609</td>\n",
              "      <td>0.214286</td>\n",
              "      <td>00:01</td>\n",
              "    </tr>\n",
              "    <tr>\n",
              "      <td>1</td>\n",
              "      <td>4.189674</td>\n",
              "      <td>4.039083</td>\n",
              "      <td>0.314286</td>\n",
              "      <td>00:01</td>\n",
              "    </tr>\n",
              "    <tr>\n",
              "      <td>2</td>\n",
              "      <td>4.083463</td>\n",
              "      <td>3.986425</td>\n",
              "      <td>0.314286</td>\n",
              "      <td>00:01</td>\n",
              "    </tr>\n",
              "  </tbody>\n",
              "</table>"
            ],
            "text/plain": [
              "<IPython.core.display.HTML object>"
            ]
          },
          "metadata": {
            "tags": []
          }
        }
      ]
    },
    {
      "cell_type": "markdown",
      "metadata": {
        "id": "Knty4YoiQ8hJ",
        "colab_type": "text"
      },
      "source": [
        "Higher accuracy and lower (and stable) loss 👌 "
      ]
    },
    {
      "cell_type": "markdown",
      "metadata": {
        "id": "6P-J0KpfRcN5",
        "colab_type": "text"
      },
      "source": [
        "### How about checking again the sentences?"
      ]
    },
    {
      "cell_type": "code",
      "metadata": {
        "id": "VY8tTtDzRVZm",
        "colab_type": "code",
        "outputId": "435d4016-7e2e-4772-f7cf-5262d3008004",
        "colab": {
          "base_uri": "https://localhost:8080/",
          "height": 105
        }
      },
      "source": [
        "for i in range(5):\n",
        "  print(lang_mod.predict(\"The problem usually starts when\", n_words=10))"
      ],
      "execution_count": 30,
      "outputs": [
        {
          "output_type": "stream",
          "text": [
            "The problem usually starts when the problem is one your xxbos Not pain ...\n",
            "The problem usually starts when you put leave u . Bcoz i 'm in\n",
            "The problem usually starts when the new year is the only world in xxbos\n",
            "The problem usually starts when you 're around , pls send my gf that\n",
            "The problem usually starts when they 're around xxbos So east i left shu\n"
          ],
          "name": "stdout"
        }
      ]
    },
    {
      "cell_type": "markdown",
      "metadata": {
        "id": "MwnFnh1PRJEQ",
        "colab_type": "text"
      },
      "source": [
        "Do you notice any change respect than before?\n",
        "\n",
        "**Yes**, now the sentences are more related to SMS messages 📲"
      ]
    },
    {
      "cell_type": "markdown",
      "metadata": {
        "id": "wsSDG9HDR0fL",
        "colab_type": "text"
      },
      "source": [
        "### Saving the model... "
      ]
    },
    {
      "cell_type": "code",
      "metadata": {
        "id": "_5Oc9hEicgLK",
        "colab_type": "code",
        "colab": {}
      },
      "source": [
        "lang_mod.save('lm_pre_unfreeze')"
      ],
      "execution_count": 0,
      "outputs": []
    },
    {
      "cell_type": "markdown",
      "metadata": {
        "id": "1gjEr512R3sN",
        "colab_type": "text"
      },
      "source": [
        "And that's it! \n",
        "\n",
        "That language model will be the one used in our next blog post!\n",
        "\n",
        "We will create a classification model that, based on a text (SMS), it will assign the probability for SPAM  🕵️‍♂️️📨"
      ]
    },
    {
      "cell_type": "code",
      "metadata": {
        "id": "IycU4l5iecbI",
        "colab_type": "code",
        "colab": {}
      },
      "source": [
        ""
      ],
      "execution_count": 0,
      "outputs": []
    },
    {
      "cell_type": "code",
      "metadata": {
        "id": "0AzM5b0Zeemm",
        "colab_type": "code",
        "colab": {}
      },
      "source": [
        ""
      ],
      "execution_count": 0,
      "outputs": []
    },
    {
      "cell_type": "markdown",
      "metadata": {
        "id": "l7IBpX-lSpjv",
        "colab_type": "text"
      },
      "source": [
        "### Summing-up! 📝"
      ]
    },
    {
      "cell_type": "markdown",
      "metadata": {
        "id": "Z4Uh5oCbTKby",
        "colab_type": "text"
      },
      "source": [
        "We went through a process of download a pre-trained **Language Model**, checking the the sentences that it produces, and then we fine-tune this model to tailor the SPAM data semantics.\n",
        "\n",
        "This process is called: **Transfer Learning**.\n",
        "\n",
        "We do also check the similitudes across words between a known corpus (based on Wikipedia articles), and how new words representatations (embeddings) can be learnt from the context, in just a few lines of code and time.\n",
        "\n",
        "\n",
        "### Get in touch!\n",
        "\n",
        "Found us at:\n",
        "\n",
        "Pablo Zivic: [Linkedin](https://www.linkedin.com/in/pablozivic) & [twitter](https://twitter.com/ideasrapidas), and me at [linkedin](https://www.linkedin.com/in/pcasas/) & [twitter](https://twitter.com/pabloc_ds) "
      ]
    },
    {
      "cell_type": "code",
      "metadata": {
        "id": "MWAE6X5dH1tF",
        "colab_type": "code",
        "colab": {}
      },
      "source": [
        ""
      ],
      "execution_count": 0,
      "outputs": []
    }
  ]
}